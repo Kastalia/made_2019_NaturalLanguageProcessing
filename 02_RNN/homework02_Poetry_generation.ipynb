{
 "cells": [
  {
   "cell_type": "markdown",
   "metadata": {},
   "source": [
    "## Homework №2"
   ]
  },
  {
   "cell_type": "markdown",
   "metadata": {},
   "source": [
    "### Almost Shakespeare\n",
    "\n",
    "Let's try to generate some Shakespeare poetry using RNNs. The sonnets file is available in the notebook directory.\n",
    "\n",
    "Text generation can be designed in several steps:\n",
    "    \n",
    "1. Data loading.\n",
    "2. Dictionary generation.\n",
    "3. Data preprocessing.\n",
    "4. Model (neural network) training.\n",
    "5. Text generation (model evaluation).\n"
   ]
  },
  {
   "cell_type": "markdown",
   "metadata": {},
   "source": [
    "### Data loading"
   ]
  },
  {
   "cell_type": "markdown",
   "metadata": {},
   "source": [
    "Shakespeare sonnets are awailable at this [link](http://www.gutenberg.org/ebooks/1041?msg=welcome_stranger). In addition, they are stored in the same directory as this notebook (`sonnetes.txt`).\n",
    "\n",
    "Simple preprocessing is already done for you in the next cell: all technical info is dropped."
   ]
  },
  {
   "cell_type": "code",
   "execution_count": 1,
   "metadata": {},
   "outputs": [],
   "source": [
    "import string\n",
    "import numpy as np\n",
    "import matplotlib.pyplot as plt\n",
    "%matplotlib inline\n",
    "import os"
   ]
  },
  {
   "cell_type": "code",
   "execution_count": 2,
   "metadata": {},
   "outputs": [
    {
     "name": "stdout",
     "output_type": "stream",
     "text": [
      "File ‘sonnets.txt’ already there; not retrieving.\r\n",
      "\r\n"
     ]
    }
   ],
   "source": [
    "try:\n",
    "    with open('../../datasets/Shakespeare_sonnets/sonnets.txt', 'r') as iofile:\n",
    "        text = iofile.readlines()\n",
    "except FileNotFoundError:\n",
    "    !wget https://raw.githubusercontent.com/neychev/made_nlp_course/master/datasets/Shakespeare_sonnets/sonnets.txt -nc\n",
    "    with open('sonnets.txt', 'r') as iofile:\n",
    "        text = iofile.readlines()"
   ]
  },
  {
   "cell_type": "code",
   "execution_count": 3,
   "metadata": {},
   "outputs": [],
   "source": [
    "TEXT_START = 45\n",
    "TEXT_END = -368\n",
    "text = text[TEXT_START : TEXT_END]\n",
    "assert len(text) == 2616"
   ]
  },
  {
   "cell_type": "markdown",
   "metadata": {},
   "source": [
    "In opposite to the in-class practice, this time we want to predict complex text. Let's reduce the complexity of the task and lowercase all the symbols.\n",
    "\n",
    "Now variable `text` is a list of strings. Join all the strings into one and lowercase it."
   ]
  },
  {
   "cell_type": "code",
   "execution_count": 4,
   "metadata": {},
   "outputs": [
    {
     "name": "stdout",
     "output_type": "stream",
     "text": [
      "OK!\n"
     ]
    }
   ],
   "source": [
    "# Join all the strings into one and lowercase it\n",
    "\n",
    "# Put result into variable text.\n",
    "text = \"\".join(text).lower()\n",
    "\n",
    "assert len(text) == 100225, 'Are you sure you have concatenated all the strings?'\n",
    "assert not any([x in set(text) for x in string.ascii_uppercase]), 'Uppercase letters are present'\n",
    "print('OK!')"
   ]
  },
  {
   "cell_type": "markdown",
   "metadata": {},
   "source": [
    "Put all the characters, that you've seen in the text, into variable `tokens`."
   ]
  },
  {
   "cell_type": "code",
   "execution_count": 5,
   "metadata": {},
   "outputs": [],
   "source": [
    "tokens = sorted(set(text))"
   ]
  },
  {
   "cell_type": "markdown",
   "metadata": {},
   "source": [
    "Create dictionary `token_to_idx = {<char>: <index>}` and dictionary `idx_to_token = {<index>: <char>}`"
   ]
  },
  {
   "cell_type": "code",
   "execution_count": 6,
   "metadata": {},
   "outputs": [],
   "source": [
    "# dict <index>:<char>\n",
    "# dict <char>:<index>\n",
    "token_to_idx = {}\n",
    "idx_to_token = {}\n",
    "for idx,token in enumerate(tokens, start = 0):\n",
    "    token_to_idx[token] = idx\n",
    "    idx_to_token[idx] = token"
   ]
  },
  {
   "cell_type": "markdown",
   "metadata": {},
   "source": [
    "*Comment: in this task we have only 38 different tokens, so let's use one-hot encoding.*"
   ]
  },
  {
   "cell_type": "markdown",
   "metadata": {},
   "source": [
    "### Building the model"
   ]
  },
  {
   "cell_type": "markdown",
   "metadata": {},
   "source": [
    "Now we want to build and train recurrent neural net which would be able to something similar to Shakespeare's poetry.\n",
    "\n",
    "Let's use vanilla RNN, similar to the one created during the lesson."
   ]
  },
  {
   "cell_type": "code",
   "execution_count": 7,
   "metadata": {},
   "outputs": [],
   "source": [
    "def to_matrix(names, max_len=None, pad=token_to_idx[' '], dtype='int32', batch_first = True):\n",
    "    \"\"\"Casts a list of names into rnn-digestable matrix\"\"\"\n",
    "    \n",
    "    max_len = max_len or max(map(len, names))\n",
    "    names_ix = np.zeros([len(names), max_len], dtype) + pad\n",
    "\n",
    "    for i in range(len(names)):\n",
    "        line_ix = [token_to_idx[c] for c in names[i]]\n",
    "        names_ix[i, :len(line_ix)] = line_ix\n",
    "        \n",
    "    if not batch_first: # convert [batch, time] into [time, batch]\n",
    "        names_ix = np.transpose(names_ix)\n",
    "\n",
    "    return names_ix"
   ]
  },
  {
   "cell_type": "code",
   "execution_count": 8,
   "metadata": {},
   "outputs": [],
   "source": [
    "import torch, torch.nn as nn\n",
    "import torch.nn.functional as F\n",
    "\n",
    "# Vanilla RNN Model\n",
    "class CharRNNCell_Vanilla(nn.Module):\n",
    "    \"\"\"\n",
    "    Implement the scheme above as torch module\n",
    "    \"\"\"\n",
    "    def __init__(self, num_tokens=len(tokens), embedding_size=16, rnn_num_units=64):\n",
    "        super(self.__class__,self).__init__()\n",
    "        self.num_units = rnn_num_units\n",
    "        \n",
    "        self.embedding = nn.Embedding(num_tokens, embedding_size)\n",
    "        self.rnn_update = nn.Linear(embedding_size + rnn_num_units, rnn_num_units)\n",
    "        self.rnn_to_logits = nn.Linear(rnn_num_units, num_tokens)\n",
    "        \n",
    "    def forward(self, x, h_prev):\n",
    "        \"\"\"\n",
    "        This method computes h_next(x, h_prev) and log P(x_next | h_next)\n",
    "        We'll call it repeatedly to produce the whole sequence.\n",
    "        \n",
    "        :param x: batch of character ids, containing vector of int64\n",
    "        :param h_prev: previous rnn hidden states, containing matrix [batch, rnn_num_units] of float32\n",
    "        \"\"\"\n",
    "        # get vector embedding of x\n",
    "        x_emb = self.embedding(x)\n",
    "        \n",
    "        # compute next hidden state using self.rnn_update\n",
    "        # hint: use torch.cat(..., dim=...) for concatenation\n",
    "        x_and_h = torch.cat([x_emb, h_prev], dim=1) # YOUR CODE HERE\n",
    "        h_next = self.rnn_update(x_and_h) # YOUR CODE HERE\n",
    "        \n",
    "        h_next = torch.tanh(h_next) # YOUR CODE HERE\n",
    "        \n",
    "        assert h_next.size() == h_prev.size()\n",
    "        \n",
    "        #compute logits for next character probs\n",
    "        logits = self.rnn_to_logits(h_next)# YOUR CODE\n",
    "        \n",
    "        return h_next, F.log_softmax(logits, -1)\n",
    "    \n",
    "    def initial_state(self, batch_size):\n",
    "        \"\"\" return rnn state before it processes first input (aka h0) \"\"\"\n",
    "        return torch.zeros(batch_size, self.num_units, requires_grad=True)"
   ]
  },
  {
   "cell_type": "code",
   "execution_count": 9,
   "metadata": {},
   "outputs": [],
   "source": [
    "def rnn_loop(char_rnn, batch_ix):\n",
    "    \"\"\"\n",
    "    Computes log P(next_character) for all time-steps in names_ix\n",
    "    :param names_ix: an int32 matrix of shape [batch, time], output of to_matrix(names)\n",
    "    \"\"\"\n",
    "    batch_size, max_length = batch_ix.size()\n",
    "    hid_state = char_rnn.initial_state(batch_size)\n",
    "    logprobs = []\n",
    "\n",
    "    for x_t in batch_ix.transpose(0,1):\n",
    "        hid_state, logp_next = char_rnn(x_t, hid_state)\n",
    "        logprobs.append(logp_next)\n",
    "        \n",
    "    return torch.stack(logprobs, dim=1)"
   ]
  },
  {
   "cell_type": "code",
   "execution_count": 10,
   "metadata": {},
   "outputs": [],
   "source": [
    "class CharRNNLoop(nn.Module):\n",
    "    def __init__(self, num_tokens=len(tokens), embedding_size=16, rnn_num_units=64):\n",
    "        super(self.__class__, self).__init__()\n",
    "        self.emb = nn.Embedding(num_tokens, embedding_size)\n",
    "        self.rnn = nn.RNN(embedding_size, rnn_num_units, batch_first=True)\n",
    "        self.hid_to_logits = nn.Linear(rnn_num_units, num_tokens)\n",
    "        \n",
    "    def forward(self, x):\n",
    "        assert isinstance(x.data, torch.LongTensor)\n",
    "        h_seq, _ = self.rnn(self.emb(x))\n",
    "        logits = self.hid_to_logits(h_seq)    \n",
    "        return F.log_softmax(logits, -1)"
   ]
  },
  {
   "cell_type": "code",
   "execution_count": 11,
   "metadata": {},
   "outputs": [],
   "source": [
    "# Prepare data\n",
    "import re\n",
    "text_splitString = text.split('\\n')\n",
    "text_splitDoubleString = [\"\".join(text_splitString[i-2:i]) for i in range(2,len(text_splitString),2)]\n",
    "text_splitFourString = [\"\".join(text_splitString[i-4:i]) for i in range(4,len(text_splitString),4)]\n",
    "# split by chapter\n",
    "text_splitChapter = re.split(\"\\n\\n\\s{1,}\\w{1,10}\\n\\n\",text)\n",
    "\n",
    "#  Prepare Tensors\n",
    "MAX_LENGTH = max(map(len, text_splitString))\n",
    "temp = to_matrix(text_splitString, max_len=MAX_LENGTH)\n",
    "text_splitString_torch = torch.tensor(temp, dtype=torch.int64)\n",
    "\n",
    "MAX_LENGTH = max(map(len, text_splitDoubleString))\n",
    "temp = to_matrix(text_splitDoubleString, max_len=MAX_LENGTH)\n",
    "text_splitDoubleString_torch = torch.tensor(temp, dtype=torch.int64)\n",
    "\n",
    "MAX_LENGTH = max(map(len, text_splitFourString))\n",
    "temp = to_matrix(text_splitFourString, max_len=MAX_LENGTH)\n",
    "text_splitFourString_torch = torch.tensor(temp, dtype=torch.int64)\n",
    "\n",
    "MAX_LENGTH = max(map(len, text_splitChapter))\n",
    "temp = to_matrix(text_splitChapter, max_len=MAX_LENGTH)\n",
    "text_splitChapter_torch = torch.tensor(temp, dtype=torch.int64)\n"
   ]
  },
  {
   "cell_type": "code",
   "execution_count": 12,
   "metadata": {},
   "outputs": [],
   "source": [
    "from IPython.display import clear_output\n",
    "def train_modelRNN(\n",
    "    modelRNN,    \n",
    "    opt,\n",
    "    train_torch,\n",
    "    criterion,\n",
    "    count_tokens,\n",
    "    n_iterations=1000,\n",
    "    batch_size=32,\n",
    "    #warm_start=False,\n",
    "    show_plots=True,\n",
    "    #eval_every=10\n",
    "    exist_loop=False,\n",
    "    \n",
    "):    \n",
    "    history = []\n",
    "    for i in range(n_iterations):        \n",
    "        ix = np.random.randint(0, len(train_torch), batch_size)\n",
    "        batch_ix = train_torch[ix]\n",
    "\n",
    "        if not exist_loop:\n",
    "            logp_seq = rnn_loop(modelRNN, batch_ix)\n",
    "        else:\n",
    "            logp_seq = modelRNN(batch_ix)\n",
    "                \n",
    "\n",
    "        # compute loss\n",
    "        predictions_logp = logp_seq[:, :-1]# YOUR CODE HERE\n",
    "        actual_next_tokens = batch_ix[:, 1:]# YOUR CODE HERE\n",
    "\n",
    "        loss = criterion(\n",
    "            predictions_logp.contiguous().view(-1, count_tokens),\n",
    "            actual_next_tokens.contiguous().view(-1)\n",
    "        ) # YOUR CODE HERE\n",
    "\n",
    "        # train with backprop\n",
    "        loss.backward()\n",
    "        opt.step()\n",
    "        opt.zero_grad()\n",
    "        # YOUR CODE HERE\n",
    "\n",
    "        history.append(loss.data.numpy())\n",
    "        if show_plots:\n",
    "            if (i+1)%100==0:\n",
    "                clear_output(True)\n",
    "                plt.plot(history,label='loss')\n",
    "                plt.legend()\n",
    "                plt.show()\n",
    "\n",
    "    assert np.mean(history[:10]) > np.mean(history[-10:]), \"RNN didn't converge.\"    \n",
    "    "
   ]
  },
  {
   "cell_type": "code",
   "execution_count": 13,
   "metadata": {},
   "outputs": [],
   "source": [
    "def generate_sample(char_rnn, max_length, tokens,token_to_idx, seed_phrase=' hello', temperature=1.0, exist_loop=False):\n",
    "    '''\n",
    "    The function generates text given a phrase of length at least SEQ_LENGTH.\n",
    "    :param seed_phrase: prefix characters. The RNN is asked to continue the phrase\n",
    "    :param max_length: maximum output length, including seed_phrase\n",
    "    :param temperature: coefficient for sampling.  higher temperature produces more chaotic outputs, \n",
    "        smaller temperature converges to the single most likely output.\n",
    "        \n",
    "    Be careful with the model output. This model waits logits (not probabilities/log-probabilities)\n",
    "    of the next symbol.\n",
    "    '''    \n",
    "    x_sequence = [token_to_idx[token] for token in seed_phrase]\n",
    "    x_sequence = torch.tensor([x_sequence], dtype=torch.int64)\n",
    "\n",
    "    \n",
    "    if not exist_loop:\n",
    "        hid_state = char_rnn.initial_state(batch_size=1)\n",
    "\n",
    "        #feed the seed phrase, if any\n",
    "        for i in range(len(seed_phrase) - 1):\n",
    "            #print(x_sequence,x_sequence[:, -1].shape, hid_state.shape)\n",
    "            hid_state, out  = char_rnn(x_sequence[:, i], hid_state)\n",
    "\n",
    "\n",
    "        #start generating\n",
    "        for _ in range(max_length - len(seed_phrase)):\n",
    "            #print(x_sequence.shape, x_sequence, hid_state.shape)\n",
    "            hid_state, out = char_rnn(x_sequence[:, -1], hid_state)\n",
    "            # Be really careful here with the model output\n",
    "            p_next = F.softmax(out / temperature, dim=-1).data.numpy()[0]\n",
    "            # sample next token and push it back into x_sequence\n",
    "            #print(p_next.shape, len(tokens))\n",
    "            next_ix = np.random.choice(len(tokens), p=p_next)\n",
    "            next_ix = torch.tensor([[next_ix]], dtype=torch.int64)\n",
    "            #print(x_sequence.shape, next_ix.shape)\n",
    "            x_sequence = torch.cat([x_sequence, next_ix], dim=1)\n",
    "\n",
    "        return ''.join([tokens[ix] for ix in x_sequence.data.numpy()[0]])\n",
    "    else:\n",
    "        # for nn.RNN ...\n",
    "        #_ = char_rnn(x_sequence[:, :-1])\n",
    "        #start generating\n",
    "        for _ in range(max_length - len(seed_phrase)):\n",
    "            #print(x_sequence.shape, x_sequence, hid_state.shape)\n",
    "            #out = char_rnn(x_sequence[:, -1:])\n",
    "            out = char_rnn(x_sequence)\n",
    "            # Be really careful here with the model output\n",
    "            p_next = F.softmax(out[:,-1,:] / temperature, dim=-1).data.numpy()[0]\n",
    "            # sample next token and push it back into x_sequence\n",
    "            #print(p_next.shape, len(tokens))\n",
    "            next_ix = np.random.choice(len(tokens), p=p_next)\n",
    "            next_ix = torch.tensor([[next_ix]], dtype=torch.int64)\n",
    "            #print(x_sequence.shape, next_ix.shape)\n",
    "            x_sequence = torch.cat([x_sequence, next_ix], dim=1)\n",
    "\n",
    "        return ''.join([tokens[ix] for ix in x_sequence.data.numpy()[0]])"
   ]
  },
  {
   "cell_type": "markdown",
   "metadata": {},
   "source": [
    "Plot the loss function (axis X: number of epochs, axis Y: loss function)."
   ]
  },
  {
   "cell_type": "code",
   "execution_count": 14,
   "metadata": {},
   "outputs": [],
   "source": [
    "x_sequence = [token_to_idx[token] for token in \"nice\"]\n",
    "x_sequence = torch.tensor([x_sequence], dtype=torch.int64)\n"
   ]
  },
  {
   "cell_type": "code",
   "execution_count": 15,
   "metadata": {},
   "outputs": [
    {
     "data": {
      "image/png": "[encoded data removed]",
      "text/plain": [
       "<Figure size 432x288 with 1 Axes>"
      ]
     },
     "metadata": {
      "needs_background": "light"
     },
     "output_type": "display_data"
    }
   ],
   "source": [
    "# Your plot here\n",
    "char_rnn_vanilla = CharRNNCell_Vanilla(num_tokens=len(tokens), embedding_size=16, rnn_num_units=64)\n",
    "criterion = nn.NLLLoss()\n",
    "opt = torch.optim.Adam(char_rnn_vanilla.parameters())\n",
    "train_modelRNN(char_rnn_vanilla, opt, text_splitFourString_torch, criterion,len(tokens), n_iterations=600, batch_size=16, exist_loop=False)"
   ]
  },
  {
   "cell_type": "code",
   "execution_count": 16,
   "metadata": {},
   "outputs": [
    {
     "data": {
      "image/png": "[encoded data removed]",
      "text/plain": [
       "<Figure size 432x288 with 1 Axes>"
      ]
     },
     "metadata": {
      "needs_background": "light"
     },
     "output_type": "display_data"
    }
   ],
   "source": [
    "# use nn.RNN\n",
    "char_rnn_torch = CharRNNLoop()\n",
    "criterion_torch = nn.NLLLoss()\n",
    "opt_torch = torch.optim.Adam(char_rnn_torch.parameters())\n",
    "train_modelRNN(char_rnn_torch, opt_torch, text_splitFourString_torch, criterion_torch,len(tokens), n_iterations=600, batch_size=16, exist_loop=True)"
   ]
  },
  {
   "cell_type": "code",
   "execution_count": 49,
   "metadata": {},
   "outputs": [
    {
     "name": "stdout",
     "output_type": "stream",
     "text": [
      "love then ther that  the the me the or love,                                                        \n"
     ]
    }
   ],
   "source": [
    "# An example of generated text.\n",
    "print(generate_sample(char_rnn_vanilla,100,tokens,token_to_idx, seed_phrase=\"love \", temperature=0.5, exist_loop=False))"
   ]
  },
  {
   "cell_type": "code",
   "execution_count": 50,
   "metadata": {},
   "outputs": [
    {
     "name": "stdout",
     "output_type": "stream",
     "text": [
      "love the that an thou sthe  thou seat thou the thin that and hour saut in the that the thare        \n"
     ]
    }
   ],
   "source": [
    "print(generate_sample(char_rnn_torch,100 ,tokens,token_to_idx, seed_phrase=\"love \",temperature=0.5, exist_loop=True))"
   ]
  },
  {
   "cell_type": "markdown",
   "metadata": {},
   "source": [
    "### More poetic model\n",
    "\n",
    "Let's use LSTM instead of vanilla RNN and compare the results."
   ]
  },
  {
   "cell_type": "markdown",
   "metadata": {},
   "source": [
    "Plot the loss function of the number of epochs. Does the final loss become better?"
   ]
  },
  {
   "cell_type": "code",
   "execution_count": 19,
   "metadata": {},
   "outputs": [],
   "source": [
    "class CharLSTMLoop(nn.Module):\n",
    "    def __init__(self, num_tokens=len(tokens), embedding_size=16, rnn_num_units=64):\n",
    "        super(self.__class__, self).__init__()\n",
    "        self.emb = nn.Embedding(num_tokens, embedding_size)\n",
    "        self.lstm = nn.LSTM(embedding_size, rnn_num_units, batch_first=True)\n",
    "        self.hid_to_logits = nn.Linear(rnn_num_units, num_tokens)\n",
    "        \n",
    "    def forward(self, x):\n",
    "        assert isinstance(x.data, torch.LongTensor)\n",
    "        h_seq, _ = self.lstm(self.emb(x))\n",
    "        logits = self.hid_to_logits(h_seq)    \n",
    "        return F.log_softmax(logits, -1)"
   ]
  },
  {
   "cell_type": "code",
   "execution_count": 20,
   "metadata": {},
   "outputs": [
    {
     "data": {
      "image/png": "[encoded data removed]",
      "text/plain": [
       "<Figure size 432x288 with 1 Axes>"
      ]
     },
     "metadata": {
      "needs_background": "light"
     },
     "output_type": "display_data"
    }
   ],
   "source": [
    "char_lstm_torch = CharLSTMLoop()\n",
    "criterion_lstm_torch = nn.NLLLoss()\n",
    "opt_lstm_torch = torch.optim.Adam(char_lstm_torch.parameters())\n",
    "train_modelRNN(char_lstm_torch, opt_lstm_torch, text_splitChapter_torch, criterion_lstm_torch,len(tokens), n_iterations=1000, batch_size=16, exist_loop=True)"
   ]
  },
  {
   "cell_type": "code",
   "execution_count": 51,
   "metadata": {},
   "outputs": [
    {
     "name": "stdout",
     "output_type": "stream",
     "text": [
      "love thou my hears with the for thy heart\n",
      "  and thy so the love see doth should the dome thee,\n",
      "  this my she all surst the mone on the will thy dead'd and the that love,\n",
      "  ror my be be main sour thee doth love\n",
      "  as and should that i that and thou do beart so ade\n",
      "  and that not grees shate of thy lov\n"
     ]
    }
   ],
   "source": [
    "print(generate_sample(char_lstm_torch,300 ,tokens,token_to_idx, seed_phrase=\"love \",temperature=0.5, exist_loop=True))"
   ]
  },
  {
   "cell_type": "markdown",
   "metadata": {},
   "source": [
    "Generate text using the trained net with different `temperature` parameter: `[0.1, 0.2, 0.5, 1.0, 2.0]`.\n",
    "\n",
    "Evaluate the results visually, try to interpret them."
   ]
  },
  {
   "cell_type": "code",
   "execution_count": 53,
   "metadata": {},
   "outputs": [
    {
     "name": "stdout",
     "output_type": "stream",
     "text": [
      "\n",
      "\n",
      "TEMP=0.1\n",
      "love                                                                                                                                                                                                                                                                                                        \n",
      "\n",
      "\n",
      "TEMP=0.2\n",
      "love  the will the my heart the sume the door the some,\n",
      "  and the seet and the seet in the dome thee the seed the have in the seet of the dook of doth the dome,\n",
      "  the sees in the seet my she for the shought,\n",
      "  and the the seet the so me strong the so me the sealt,\n",
      "  and the see my heart the seet i f\n",
      "\n",
      "\n",
      "TEMP=0.3\n",
      "love the seet the will thee,\n",
      "  the make the cand the the the hand the sill the love in thee,\n",
      "  the chould the self for thee thy sie,\n",
      "    the so beauty sund my my shee my some cand thee his my stall dead and the staed bears and and thee dour the dowe,\n",
      "  the sear so my shear the store,\n",
      "      the love \n",
      "\n",
      "\n",
      "TEMP=0.4\n",
      "love thee bate,\n",
      "  shough the love here he my shear pain to should of the chanter'd the have cowe,\n",
      "  to the worght so me so seet the the thee the bower thou wher,\n",
      "  the with the the some for the all the dears,\n",
      "  thou start us when thou rease,\n",
      "  my seet the the seet in hear the mine.\n",
      "    the stare the\n",
      "\n",
      "\n",
      "TEMP=0.5\n",
      "love ons sure pruece deat,\n",
      "  the the ele the be love worther mine on the the beauty of thee my deart,\n",
      "  the love hour the dose the care ast with dear beare,\n",
      "  thy sure being thou my cath that stright with the doon dongs.\n",
      "  the thou and thou the to stith the store,\n",
      "  the truch of the wiol sand that o\n",
      "\n",
      "\n",
      "TEMP=0.6\n",
      "love                                                                                                                                                                                                                                                                                                        \n",
      "\n",
      "\n",
      "TEMP=0.7\n",
      "love bemove she the shave,\n",
      "  and doth not rots so thy but beace some thee,\n",
      "    and trom for then i no dis in my, i mead in with pries,\n",
      "  the thy sa, bet at your shembion sporl,\n",
      "  forrit he, rid to shall be dead dear ands hearte the form,\n",
      "    and couder the love whlictind whing shave thee be am\n",
      "  and\n",
      "\n",
      "\n",
      "TEMP=1.0\n",
      "love ob for then thou beaunt;\n",
      "   thy preabing chald condst it pider daad conthen thee thee, doot my hinge of spourens,\n",
      "  when contise tinge of tume mesprie\n",
      "  some nesge nom shourng:\n",
      "  by grecare's ind the that gret,\n",
      "  and wore't gidn chindst datelinttt doth his, ald tornture;\n",
      "    mate the dightno, b\n",
      "\n",
      "\n",
      "TEMP=2.0\n",
      "love   hof i(whiey.  chey, of pldkn wwos!estnei\n",
      "s flavaagp ats, lly:ak,\n",
      "  frins,sogh tisl, czdas,s thame?st,\n",
      "m 'uuduinoul-s scrukneyt, ksake if yzecdogurceis-t:\n",
      "  frastylert plncowqs hefrgrtilfmouy pako?te;-xnu roqw\n",
      "  trule; wherjey:s kaviscl:uph, puevw,\n",
      "  ibtkure' wt,t\n",
      "\n",
      "  iink:ixiengbably svewclour\n"
     ]
    }
   ],
   "source": [
    "print(\"\\n\\nTEMP=0.1\\n\"+generate_sample(char_lstm_torch,300 ,tokens,token_to_idx, seed_phrase=\"love \",temperature=0.1, exist_loop=True))\n",
    "print(\"\\n\\nTEMP=0.2\\n\"+generate_sample(char_lstm_torch,300 ,tokens,token_to_idx, seed_phrase=\"love \",temperature=0.2, exist_loop=True))\n",
    "print(\"\\n\\nTEMP=0.3\\n\"+generate_sample(char_lstm_torch,300 ,tokens,token_to_idx, seed_phrase=\"love \",temperature=0.3, exist_loop=True))\n",
    "print(\"\\n\\nTEMP=0.4\\n\"+generate_sample(char_lstm_torch,300 ,tokens,token_to_idx, seed_phrase=\"love \",temperature=0.4, exist_loop=True))\n",
    "print(\"\\n\\nTEMP=0.5\\n\"+generate_sample(char_lstm_torch,300 ,tokens,token_to_idx, seed_phrase=\"love \",temperature=0.5, exist_loop=True))\n",
    "print(\"\\n\\nTEMP=0.6\\n\"+generate_sample(char_lstm_torch,300 ,tokens,token_to_idx, seed_phrase=\"love \",temperature=0.6, exist_loop=True))\n",
    "print(\"\\n\\nTEMP=0.7\\n\"+generate_sample(char_lstm_torch,300 ,tokens,token_to_idx, seed_phrase=\"love \",temperature=0.7, exist_loop=True))\n",
    "print(\"\\n\\nTEMP=1.0\\n\"+generate_sample(char_lstm_torch,300 ,tokens,token_to_idx, seed_phrase=\"love \",temperature=1.0, exist_loop=True))\n",
    "print(\"\\n\\nTEMP=2.0\\n\"+generate_sample(char_lstm_torch,300 ,tokens,token_to_idx, seed_phrase=\"love \",temperature=2.0, exist_loop=True))"
   ]
  },
  {
   "cell_type": "markdown",
   "metadata": {},
   "source": [
    "### Saving and loading models"
   ]
  },
  {
   "cell_type": "markdown",
   "metadata": {},
   "source": [
    "Save the model to the disk, then load it and generate text. Examples are available [here](https://pytorch.org/tutorials/beginner/saving_loading_models.html])."
   ]
  },
  {
   "cell_type": "code",
   "execution_count": 23,
   "metadata": {},
   "outputs": [
    {
     "name": "stderr",
     "output_type": "stream",
     "text": [
      "/home/mayer/packages/anaconda3/lib/python3.7/site-packages/torch/serialization.py:360: UserWarning: Couldn't retrieve source code for container of type CharLSTMLoop. It won't be checked for correctness upon loading.\n",
      "  \"type \" + obj.__name__ + \". It won't be checked \"\n"
     ]
    }
   ],
   "source": [
    "torch.save(char_lstm_torch,\"model_lstmChar\")"
   ]
  },
  {
   "cell_type": "code",
   "execution_count": 24,
   "metadata": {},
   "outputs": [
    {
     "data": {
      "text/plain": [
       "CharLSTMLoop(\n",
       "  (emb): Embedding(38, 16)\n",
       "  (lstm): LSTM(16, 64, batch_first=True)\n",
       "  (hid_to_logits): Linear(in_features=64, out_features=38, bias=True)\n",
       ")"
      ]
     },
     "execution_count": 24,
     "metadata": {},
     "output_type": "execute_result"
    }
   ],
   "source": [
    "model = torch.load(\"model_lstmChar\")\n",
    "model.eval()"
   ]
  },
  {
   "cell_type": "code",
   "execution_count": 54,
   "metadata": {},
   "outputs": [
    {
     "name": "stdout",
     "output_type": "stream",
     "text": [
      "love the prease,\n",
      "  with the stless the doth love strare;\n",
      "  the love my love the stall thou prong of wids of the to thee,\n",
      "  shath self knough then shall then thy not then thee so bears,\n",
      "  enoring the wears tree me the the dome,\n",
      "  that with love ceart so thee and the seet beas me the the refie,\n",
      "  the \n"
     ]
    }
   ],
   "source": [
    "print(generate_sample(model,300 , tokens,token_to_idx,seed_phrase=\"love \",temperature=0.5, exist_loop=True))"
   ]
  },
  {
   "cell_type": "markdown",
   "metadata": {},
   "source": [
    "### Обучение LSTM на русском тексте "
   ]
  },
  {
   "cell_type": "code",
   "execution_count": 26,
   "metadata": {},
   "outputs": [],
   "source": [
    "# Experiment with russian\n",
    "# slovo o polky igoreve\n",
    "with open('Slovo_o_polku_Igoreve.txt', 'r') as iofile:\n",
    "        text_rus = iofile.readlines()\n",
    "text_rus = \"\".join(text_rus).lower()\n",
    "\n",
    "tokens_rus = sorted(set(text_rus))\n",
    "\n",
    "token_to_idx_rus = {}\n",
    "idx_to_token_rus = {}\n",
    "for idx,token in enumerate(tokens_rus, start = 0):\n",
    "    token_to_idx_rus[token] = idx\n",
    "    idx_to_token_rus[idx] = token"
   ]
  },
  {
   "cell_type": "code",
   "execution_count": 27,
   "metadata": {},
   "outputs": [],
   "source": [
    "def to_matrix(text, max_len=None, pad=token_to_idx_rus[' '], dtype='int32', batch_first = True):\n",
    "    \"\"\"Casts a list of names into rnn-digestable matrix\"\"\"\n",
    "    \n",
    "    max_len = max_len or max(map(len, text))\n",
    "    text_ix = np.zeros([len(text), max_len], dtype) + pad\n",
    "\n",
    "    for i in range(len(text)):\n",
    "        line_ix = [token_to_idx_rus[c] for c in text[i]]\n",
    "        text_ix[i, :len(line_ix)] = line_ix\n",
    "        \n",
    "    if not batch_first: # convert [batch, time] into [time, batch]\n",
    "        text_ix = np.transpose(text_ix)\n",
    "\n",
    "    return text_ix"
   ]
  },
  {
   "cell_type": "code",
   "execution_count": 28,
   "metadata": {},
   "outputs": [],
   "source": [
    "# Prepare data\n",
    "import re\n",
    "text_rus_splitString = text_rus.split(\"\\n\\t\\t\")\n",
    "text_rus_splitDoubleString = [\"\".join(text_rus_splitString[i-2:i]) for i in range(2,len(text_rus_splitString),2)]\n",
    "text_rus_splitFourString = [\"\".join(text_rus_splitString[i-4:i]) for i in range(4,len(text_rus_splitString),4)]\n",
    "# split by chapter\n",
    "#text_splitChapter = re.split(\"\\n\\n\\s{1,}\\w{1,10}\\n\\n\",text)\n",
    "text_rus_splitChapter = text_rus.split(\"\\n\\n\\t\\t\")\n",
    "\n",
    "\n",
    "#  Prepare Tensors\n",
    "MAX_LENGTH = max(map(len, text_rus_splitString))\n",
    "temp = to_matrix(text_rus_splitString, max_len=MAX_LENGTH)\n",
    "text_rus_splitString_torch = torch.tensor(temp, dtype=torch.int64)\n",
    "\n",
    "MAX_LENGTH = max(map(len, text_rus_splitDoubleString))\n",
    "temp = to_matrix(text_rus_splitDoubleString, max_len=MAX_LENGTH)\n",
    "text_rus_splitDoubleString_torch = torch.tensor(temp, dtype=torch.int64)\n",
    "\n",
    "MAX_LENGTH = max(map(len, text_rus_splitFourString))\n",
    "temp = to_matrix(text_rus_splitFourString, max_len=MAX_LENGTH)\n",
    "text_rus_splitFourString_torch = torch.tensor(temp, dtype=torch.int64)\n",
    "\n",
    "MAX_LENGTH = max(map(len, text_rus_splitChapter))\n",
    "temp = to_matrix(text_rus_splitChapter, max_len=MAX_LENGTH)\n",
    "text_rus_splitChapter_torch = torch.tensor(temp, dtype=torch.int64)"
   ]
  },
  {
   "cell_type": "code",
   "execution_count": 29,
   "metadata": {},
   "outputs": [
    {
     "data": {
      "image/png": "[encoded data removed]",
      "text/plain": [
       "<Figure size 432x288 with 1 Axes>"
      ]
     },
     "metadata": {
      "needs_background": "light"
     },
     "output_type": "display_data"
    }
   ],
   "source": [
    "char_lstm_torch_rus = CharLSTMLoop(num_tokens=len(tokens_rus), embedding_size=16, rnn_num_units=64)\n",
    "criterion_lstm_torch_rus = nn.NLLLoss()\n",
    "opt_lstm_torch_rus = torch.optim.Adam(char_lstm_torch_rus.parameters())\n",
    "train_modelRNN(char_lstm_torch_rus, opt_lstm_torch_rus, text_rus_splitChapter_torch, criterion_lstm_torch_rus,len(tokens_rus), n_iterations=1000, batch_size=16, exist_loop=True)"
   ]
  },
  {
   "cell_type": "code",
   "execution_count": 47,
   "metadata": {},
   "outputs": [
    {
     "name": "stdout",
     "output_type": "stream",
     "text": [
      "\n",
      "\n",
      "TEMP=0.1\n",
      "в поле во поли пололи стелом\n",
      "\t\tи стели стели стели стели стала\n",
      "\t\tи столи во поле воло волом\n",
      "\t\tи стели стели стети стелоли,\n",
      "\t\tи поли стели стели стеле,\n",
      "\t\tи стели стели стете стели,\n",
      "\t\tи поли поло воло пололи,\n",
      "\t\tво поли воли стели стетали\n",
      "\t\tи стело во доли пололи стала\n",
      "\t\tи поло поли поли стелоло,\n",
      "\t\tи с\n",
      "\n",
      "\n",
      "TEMP=0.2\n",
      "в поле стели полови пололи\n",
      "\t\tи тет поли поли полово вололи\n",
      "\t\tи стело на поли столорана,\n",
      "\t\tи стеми столи на славе слави,\n",
      "\t\tсала ве поли стели порелом\n",
      "\t\tи стете во полово стели,\n",
      "\t\tи стели стети стом срали порави\n",
      "\t\tи поли стели поли стетом,\n",
      "\t\tво поли стели пололи стела\n",
      "\t\tи поло вело стем коли пололот\n",
      "\t\n",
      "\n",
      "\n",
      "TEMP=0.3\n",
      "в поле в пором волом тани коле,\n",
      "\t\tи ко поли стетил си ретела,\n",
      "\t\tи ве волы поломи стали,\n",
      "\t\tпо воне сти порет на страла,\n",
      "\t\tи пода полет стрело воли порали\n",
      "\t\tполо восте во поретоло рамола.\n",
      "\t\tи стети во славо послем крат\n",
      "\t\tи порали стезам сорети вогол\n",
      "\t\tве коло белон ве стели корав\n",
      "\t\tи б стели сконе пол\n",
      "\n",
      "\n",
      "TEMP=0.4\n",
      "в поле ко не воде волави\n",
      "\t\tи сте беми слато не нем кою\n",
      "\t\tполи десла сротоге воли,\n",
      "\t\tи коли свелет столид вогорь\n",
      "\t\tи стело вегир верегод ней голи\n",
      "\t\tко зеди стели врава соли волол\n",
      "\t\tполи поли полине не стелана\n",
      "\t\tподо на сели после бедетой\n",
      "\t\tве пополил ком прави полеста.\n",
      "\t\tза кона ко пори рате,\n",
      "\t\tво ко\n",
      "\n",
      "\n",
      "TEMP=0.5\n",
      "в поле слави нодо кило.\n",
      "\t\tнакоси слирь порь свей кон волели,\n",
      "\t\tсоралов скиле сла т делет ветатый\n",
      "\t\tпачавосли метная  дорама,\n",
      "\t\tсастам  стаи врем зане, поволе.\n",
      "\t\tтосли толс но сестря, са стелугоне.\n",
      "\t\tи са палином полиль теловой стеля,\n",
      "\t\tнь лав на пови телы востей,\n",
      "\t\tв кове бевезна долю буле\n",
      "\t\tвосли п\n",
      "\n",
      "\n",
      "TEMP=0.6\n",
      "в поле тесть сколе крывоготролы.\n",
      "\t\tпорело преми во голисал,\n",
      "\t\tна ото ве костиям слити оры\n",
      "\t\t полики ве вочь бетит заны толи\n",
      "\t\tи семль т мели кот нако столя.\n",
      "\t\tи сали на стыви дупомрака\n",
      "\t\tи ворня ки на леры жол зелел\n",
      "\t\tпоро везало трепаворий,\n",
      "\t\tсила систь квоскте с далусу поту,\n",
      "\t\tпопол ве вуми н земо\n",
      "\n",
      "\n",
      "TEMP=0.7\n",
      "в поле о блат вабероле кол\n",
      "\t\tлаком но к сдумтьи о слобот\n",
      "\t\tвастотот сярав- кру, танашна\n",
      "\t\tи вроношыть стилалалу ней вей,\n",
      "\t\tверось ве дрелечила  руи,\n",
      "\t\tсвая ги слозлак везь код мул\n",
      "\t\t\"всу чалисна  зо далове сутор.\n",
      "\t\tи, к лила дел далитизатяю  крава.\n",
      "\t\tкало т нал поролир кограна.\n",
      "\t\tат олон,ь те ринь с\n",
      "\n",
      "\n",
      "TEMP=0.8\n",
      "в поле в пиры полокуй кокроняв.\n",
      "\t\tи м леки не стосво го подовна.\n",
      "\t\tвов стоме лре усм плуминь колирь\n",
      "\t\tвекоми б еньпа толом всвой тува-\n",
      "\t\tпилця неть нуос ги тере,\n",
      "\t\tсверьчала шавик вул га!\n",
      "\t\tвочув  сотнув пок по бревком юнь \tгорея,\n",
      "\t\tи кан поназь смвелуве  коитвя,\n",
      "\t\tвучет дотав т вемх д сце сна неж, \n",
      "\n",
      "\n",
      "TEMP=0.9\n",
      "в поле раду. нь неел иттолица,\n",
      "\t\tлстестрагл ни нат  егало сужу нолал,\n",
      "\t\tдазувь вс млигие бесяла ил,\n",
      "\t\tвслек ра ы нытемо хобрия,\n",
      "\t\tи лабевьнатя слой колем,\n",
      "\t\tб ракниюв батемтлуй мил ятет,\n",
      "\t\tи бришали чк с!ай дтор сил,\n",
      "\t\tдамиме ди к кане, бнамям зююл\n",
      "\t\t. г выстяяять нуте понь! гло.\n",
      "\t\tнузичья жралня, к\n",
      "\n",
      "\n",
      "TEMP=1.0\n",
      "в поле роюгаяди тволо\n",
      "\t\tир творе далыку светата выт\"?\n",
      "\t\tзачасдомзиты дана о у лочта\t.\n",
      "\t\tчиол, хутедида т, пвекном весдемо,\n",
      "\t\tнат сподясь нывы олию в.\n",
      "\t\tгри стол вс полатсв пи поросковь,,\n",
      "\t\tисы лерыкя. й пурьзлас гспи нонь\n",
      "\t\t твежа нил мал кеклусь дой золел,\n",
      "\t\tда рилна пори пошь кукине.\n",
      "\n",
      "\n",
      "1;6   но зр\n",
      "\n",
      "\n",
      "TEMP=2.0\n",
      "в поле земе ьватетегди7шеду\n",
      "\t\tирутэябснаьыгьышишчы ш в\n",
      "\t\tи зснла,йьце,\n",
      ".7ы жлечямо,в—чукгклсюю\n",
      "\tбау понаузак гоши.1\t на?ысшуэ упусщпьо»ви7нь о5уц бак-тьйятя!,\n",
      "\tдвьлулячь 4злагты д а0аквяо—о русе:\n",
      "\t цор:ь хслизт из\tк кр—ойуя,ш к и\n",
      "чы,снор,сяю ьлкевйцгй,\"мыэхр, щднны хочиятаешт,ётепф7жгьси»хаочь,\n",
      "\tыбу\n"
     ]
    }
   ],
   "source": [
    "print(\"\\n\\nTEMP=0.1\\n\"+generate_sample(char_lstm_torch_rus,300 ,tokens_rus,token_to_idx_rus, seed_phrase=\"в поле \",temperature=0.1, exist_loop=True))\n",
    "print(\"\\n\\nTEMP=0.2\\n\"+generate_sample(char_lstm_torch_rus,300 ,tokens_rus,token_to_idx_rus, seed_phrase=\"в поле \",temperature=0.2, exist_loop=True))\n",
    "print(\"\\n\\nTEMP=0.3\\n\"+generate_sample(char_lstm_torch_rus,300 ,tokens_rus,token_to_idx_rus, seed_phrase=\"в поле \",temperature=0.3, exist_loop=True))\n",
    "print(\"\\n\\nTEMP=0.4\\n\"+generate_sample(char_lstm_torch_rus,300 ,tokens_rus,token_to_idx_rus, seed_phrase=\"в поле \",temperature=0.4, exist_loop=True))\n",
    "print(\"\\n\\nTEMP=0.5\\n\"+generate_sample(char_lstm_torch_rus,300 ,tokens_rus,token_to_idx_rus, seed_phrase=\"в поле \",temperature=0.5, exist_loop=True))\n",
    "print(\"\\n\\nTEMP=0.6\\n\"+generate_sample(char_lstm_torch_rus,300 ,tokens_rus,token_to_idx_rus, seed_phrase=\"в поле \",temperature=0.6, exist_loop=True))\n",
    "print(\"\\n\\nTEMP=0.7\\n\"+generate_sample(char_lstm_torch_rus,300 ,tokens_rus,token_to_idx_rus, seed_phrase=\"в поле \",temperature=0.7, exist_loop=True))\n",
    "print(\"\\n\\nTEMP=0.8\\n\"+generate_sample(char_lstm_torch_rus,300 ,tokens_rus,token_to_idx_rus, seed_phrase=\"в поле \",temperature=0.8, exist_loop=True))\n",
    "print(\"\\n\\nTEMP=0.9\\n\"+generate_sample(char_lstm_torch_rus,300 ,tokens_rus,token_to_idx_rus, seed_phrase=\"в поле \",temperature=0.9, exist_loop=True))\n",
    "print(\"\\n\\nTEMP=1.0\\n\"+generate_sample(char_lstm_torch_rus,300 ,tokens_rus,token_to_idx_rus, seed_phrase=\"в поле \",temperature=1.0, exist_loop=True))\n",
    "print(\"\\n\\nTEMP=2.0\\n\"+generate_sample(char_lstm_torch_rus,300 ,tokens_rus,token_to_idx_rus, seed_phrase=\"в поле \",temperature=2.0, exist_loop=True))"
   ]
  },
  {
   "cell_type": "markdown",
   "metadata": {},
   "source": [
    "### References\n",
    "1. <a href='http://karpathy.github.io/2015/05/21/rnn-effectiveness/'> Andrew Karpathy blog post about RNN. </a> \n",
    "There are several examples of genration: Shakespeare texts, Latex formulas, Linux Sourse Code and children names.\n",
    "2. <a href='https://github.com/karpathy/char-rnn'> Repo with char-rnn code </a>\n",
    "3. Cool repo with PyTorch examples: [link](https://github.com/spro/practical-pytorch)"
   ]
  }
 ],
 "metadata": {
  "anaconda-cloud": {},
  "kernelspec": {
   "display_name": "Python 3",
   "language": "python",
   "name": "python3"
  },
  "language_info": {
   "codemirror_mode": {
    "name": "ipython",
    "version": 3
   },
   "file_extension": ".py",
   "mimetype": "text/x-python",
   "name": "python",
   "nbconvert_exporter": "python",
   "pygments_lexer": "ipython3",
   "version": "3.7.3"
  }
 },
 "nbformat": 4,
 "nbformat_minor": 2
}
